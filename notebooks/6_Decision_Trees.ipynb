{
 "cells": [
  {
   "cell_type": "code",
   "execution_count": 1,
   "metadata": {},
   "outputs": [],
   "source": [
    "import numpy as np\n",
    "import pandas as pd\n",
    "import matplotlib.pyplot as plt\n",
    "\n",
    "#preprocessing\n",
    "from sklearn.preprocessing import StandardScaler, MinMaxScaler\n",
    "\n",
    "# classifier we will use\n",
    "from sklearn.tree import DecisionTreeClassifier\n",
    "\n",
    "# model selection bits\n",
    "from sklearn.model_selection import train_test_split\n",
    "\n",
    "# evaluation\n",
    "from sklearn.metrics import f1_score\n",
    "from sklearn.metrics import accuracy_score\n"
   ]
  },
  {
   "cell_type": "markdown",
   "metadata": {},
   "source": [
    "# Detecting Spam with Decision Trees\n",
    "\n",
    "In this assignment you will detect spam with decision trees. It's always important to investigate the data that you are using for any project. Since data is our gold mine, it's our oil that powers our models we need to have good quality data. Machine learning follows the \"garbage in, garbage out\" principle, if we feed in bad data for training, we will get a model that produces bad results.  For these reasons we want to answer the following questions.\n",
    "\n",
    "## 0.  Learn about the data\n",
    "\n",
    "1. Where did this data come from?\n",
    "2. Who made it?\n",
    "3. How were the features selected?\n",
    "4. Can you trust it?\n",
    "\n",
    "Go ahead and scan through the spambase_features.txt file and the spambase.txt file.  These two files provide information about the dataset, how it was curated and where it came from. Then try to answer the above questions.\n",
    "\n",
    "\n",
    "## 1. Load the data"
   ]
  },
  {
   "cell_type": "code",
   "execution_count": 2,
   "metadata": {},
   "outputs": [],
   "source": [
    "## we are going to hardcode the column names, because this just makes it a little easier to use pandas.\n",
    "\n",
    "names = ['word_freq_make:        ',\n",
    "'word_freq_address:     ',\n",
    "'word_freq_all:         ',\n",
    "'word_freq_3d:          ',\n",
    "'word_freq_our:         ',\n",
    "'word_freq_over:        ',\n",
    "'word_freq_remove:      ',\n",
    "'word_freq_internet:    ',\n",
    "'word_freq_order:       ',\n",
    "'word_freq_mail:        ',\n",
    "'word_freq_receive:     ',\n",
    "'word_freq_will:        ',\n",
    "'word_freq_people:      ',\n",
    "'word_freq_report:      ',\n",
    "'word_freq_addresses:   ',\n",
    "'word_freq_free:        ',\n",
    "'word_freq_business:    ',\n",
    "'word_freq_email:       ',\n",
    "'word_freq_you:         ',\n",
    "'word_freq_credit:      ',\n",
    "'word_freq_your:        ',\n",
    "'word_freq_font:        ',\n",
    "'word_freq_000:         ',\n",
    "'word_freq_money:       ',\n",
    "'word_freq_hp:          ',\n",
    "'word_freq_hpl:         ',\n",
    "'word_freq_george:      ',\n",
    "'word_freq_650:         ',\n",
    "'word_freq_lab:         ',\n",
    "'word_freq_labs:        ',\n",
    "'word_freq_telnet:      ',\n",
    "'word_freq_857:         ',\n",
    "'word_freq_data:        ',\n",
    "'word_freq_415:         ',\n",
    "'word_freq_85:          ',\n",
    "'word_freq_technology:  ',\n",
    "'word_freq_1999:        ',\n",
    "'word_freq_parts:       ',\n",
    "'word_freq_pm:          ',\n",
    "'word_freq_direct:      ',\n",
    "'word_freq_cs:          ',\n",
    "'word_freq_meeting:     ',\n",
    "'word_freq_original:    ',\n",
    "'word_freq_project:     ',\n",
    "'word_freq_re:          ',\n",
    "'word_freq_edu:         ',\n",
    "'word_freq_table:       ',\n",
    "'word_freq_conference:  ',\n",
    "'char_freq_;:           ',\n",
    "'char_freq_(:           ',\n",
    "'char_freq_[:           ',\n",
    "'char_freq_!:           ',\n",
    "'char_freq_$:           ',\n",
    "'char_freq_#:           ',\n",
    "'capital_run_length_average',\n",
    "'capital_run_length_longest',\n",
    "'capital_run_length_total: ',\n",
    "'label']\n",
    "          "
   ]
  },
  {
   "cell_type": "code",
   "execution_count": 3,
   "metadata": {},
   "outputs": [],
   "source": [
    "## Load in the dataset here \n",
    "\n",
    "data = pd.read_csv('spambase/spambase.csv', names = names)\n",
    "X = data.drop('label', axis = 1)\n",
    "y = data.label"
   ]
  },
  {
   "cell_type": "markdown",
   "metadata": {},
   "source": [
    "## 2. Preprocess the data if needed\n",
    "\n",
    "1. Are there any empty values?\n",
    "2. Do you need to transform the data?\n",
    "3. What is the distribution of the positive and negative classes?\n",
    "4. Split the data into training and testing sets\n",
    "\n",
    "Let me give a few hints.  When it comes to scaling the data, we normally just _should_, but in this case we are going to be working with decision trees and I think we learned that they have an interesting property!  \n",
    "\n",
    "We want to look at the distribution of positive (spam) and negative (ham) classes.  So basically we need to look at the count of the labels.  You can use the function `.value_counts()` on `y`.  Note that the function `value_counts` is specific to the Series class, it doesn't work on Dataframes.  Now it's not just enough to look at the raw numbers, I suggest you calculate statistics like \"what percentage of my data is ham? What percentage is spam?  This may help you decide if you should use the `stratify` keyword when splitting your data.\n"
   ]
  },
  {
   "cell_type": "code",
   "execution_count": 4,
   "metadata": {},
   "outputs": [
    {
     "data": {
      "text/plain": [
       "0    2788\n",
       "1    1813\n",
       "Name: label, dtype: int64"
      ]
     },
     "execution_count": 4,
     "metadata": {},
     "output_type": "execute_result"
    }
   ],
   "source": [
    "y.value_counts()"
   ]
  },
  {
   "cell_type": "code",
   "execution_count": 6,
   "metadata": {},
   "outputs": [],
   "source": [
    "## Split your data with 70% for training, this is somewhat random, but this is how I will do it in the \n",
    "## solution video so you will have similar results. Feel free to change this value and experiment if you like.\n",
    "train_X, test_X, train_y, test_y = train_test_split(X, y, train_size=0.7, random_state=2)"
   ]
  },
  {
   "cell_type": "markdown",
   "metadata": {},
   "source": [
    "## 3. Train a Decision Tree Classifier\n",
    "\n",
    "1. What metric should we use? The f1-score or accuracy?\n",
    "\n",
    "Let's start with a default model, we won't specify any settings on the decision tree model for the first training. The following will be a 3-step process\n",
    " * training\n",
    " * getting predictions\n",
    " * evaluating our predictions\n",
    " \n",
    "The question does arise, what should we check our predictions on? The obvious answer is that we should check the predictions on our testing set. That's the set of data that simulates our future unseen data. However in our quest to figure out if we are overfitting or not, it could be very useful to look at the performance of the training set.  Remember when we overfit our polynomials and they touched every point? But then we added data the performance would drop. Similarly if the perfomance of the training data is near perfect, but the testing data is much worse, that _gap_ indicates overfitting. So we will check both training and testing performance.\n"
   ]
  },
  {
   "cell_type": "code",
   "execution_count": 7,
   "metadata": {},
   "outputs": [
    {
     "data": {
      "text/plain": [
       "DecisionTreeClassifier()"
      ]
     },
     "execution_count": 7,
     "metadata": {},
     "output_type": "execute_result"
    }
   ],
   "source": [
    "## Train the model\n",
    "clf = DecisionTreeClassifier()\n",
    "clf.fit(train_X, train_y)"
   ]
  },
  {
   "cell_type": "code",
   "execution_count": 8,
   "metadata": {},
   "outputs": [],
   "source": [
    "## get predictions from the model on the training data and the testing data\n",
    "train_preds = clf.predict(train_X)\n",
    "test_preds = clf.predict(test_X)"
   ]
  },
  {
   "cell_type": "code",
   "execution_count": 9,
   "metadata": {},
   "outputs": [
    {
     "name": "stdout",
     "output_type": "stream",
     "text": [
      "Train F1: 0.9991974317817015\n",
      "Test F1: 0.8877005347593583\n"
     ]
    }
   ],
   "source": [
    "## evaluate the predictions\n",
    "## Note that the order of the arguments is **very** important for f1-score\n",
    "train_f1 = f1_score(train_y, train_preds)\n",
    "test_f1 = f1_score(test_y, test_preds)\n",
    "\n",
    "print(f\"Train F1: {train_f1}\\nTest F1: {test_f1}\")"
   ]
  },
  {
   "cell_type": "markdown",
   "metadata": {},
   "source": [
    "## 4. Did we overfit? Either way, let's try out some of the decision tree parameters\n",
    "\n",
    "Go ahead and try out some different tree parameters. \n",
    "\n",
    "* `max_depth`\n",
    "* `min_samples_split`\n",
    "* `min_samples_leaf`\n",
    "\n",
    "All three of these parameters will control the complexity of the tree.  Before you try them out, let's take a quick quiz:\n",
    "\n",
    "* increasing `max_depth` will : **Increase** or **Decrease** overfitting?\n",
    "* increasing `min_samples_split` will: **Increase** or **Decrease** overfitting?\n",
    "* increasing `min_samples_leaf` will: **Increase** or **Decrease** overfitting?\n",
    "\n",
    "It's very important to know the answer to these questions - because other wise you can't tune the parameters correctly. If you aren't sure go back and check the quiz on this very topic.\n",
    "\n",
    "Go ahead and try at least 3 values for each parameter. Then if you try 3 values for each combination, you actually would try 9 total parameters. You can see where this is going -- `for` loops! At this point I encourage you to just try whatever method you want, you can ad-hoc try different values or you can get robust with for-loops. Whatever you are inspired to do. The main point is to try out some values and see what you find.  What helps improve our testing performance the best?"
   ]
  },
  {
   "cell_type": "code",
   "execution_count": 11,
   "metadata": {},
   "outputs": [
    {
     "name": "stdout",
     "output_type": "stream",
     "text": [
      "Running Result on Parameters: Max-Depth 3| Min-Samples-Split 1| Min-Samples-Leaf 1\n",
      "Train F1: 0.9991974317817015\n",
      "Test F1: 0.8828193832599118\n",
      "Running Result on Parameters: Max-Depth 3| Min-Samples-Split 1| Min-Samples-Leaf 2\n",
      "Train F1: 0.9991974317817015\n",
      "Test F1: 0.8841732979664014\n",
      "Running Result on Parameters: Max-Depth 3| Min-Samples-Split 1| Min-Samples-Leaf 5\n",
      "Train F1: 0.9991974317817015\n",
      "Test F1: 0.8841732979664014\n",
      "Running Result on Parameters: Max-Depth 3| Min-Samples-Split 1| Min-Samples-Leaf 9\n",
      "Train F1: 0.9991974317817015\n",
      "Test F1: 0.8828193832599118\n",
      "Running Result on Parameters: Max-Depth 3| Min-Samples-Split 2| Min-Samples-Leaf 1\n",
      "Train F1: 0.9991974317817015\n",
      "Test F1: 0.8849241748438894\n",
      "Running Result on Parameters: Max-Depth 3| Min-Samples-Split 2| Min-Samples-Leaf 2\n",
      "Train F1: 0.9991974317817015\n",
      "Test F1: 0.8930481283422459\n",
      "Running Result on Parameters: Max-Depth 3| Min-Samples-Split 2| Min-Samples-Leaf 5\n",
      "Train F1: 0.9991974317817015\n",
      "Test F1: 0.8788682581786029\n",
      "Running Result on Parameters: Max-Depth 3| Min-Samples-Split 2| Min-Samples-Leaf 9\n",
      "Train F1: 0.9991974317817015\n",
      "Test F1: 0.8894830659536542\n",
      "Running Result on Parameters: Max-Depth 3| Min-Samples-Split 5| Min-Samples-Leaf 1\n",
      "Train F1: 0.9991974317817015\n",
      "Test F1: 0.8859416445623342\n",
      "Running Result on Parameters: Max-Depth 3| Min-Samples-Split 5| Min-Samples-Leaf 2\n",
      "Train F1: 0.9991974317817015\n",
      "Test F1: 0.8869257950530035\n",
      "Running Result on Parameters: Max-Depth 3| Min-Samples-Split 5| Min-Samples-Leaf 5\n",
      "Train F1: 0.9991974317817015\n",
      "Test F1: 0.8826125330979699\n",
      "Running Result on Parameters: Max-Depth 3| Min-Samples-Split 5| Min-Samples-Leaf 9\n",
      "Train F1: 0.9991974317817015\n",
      "Test F1: 0.8728888888888887\n",
      "Running Result on Parameters: Max-Depth 3| Min-Samples-Split 9| Min-Samples-Leaf 1\n",
      "Train F1: 0.9991974317817015\n",
      "Test F1: 0.8865248226950354\n",
      "Running Result on Parameters: Max-Depth 3| Min-Samples-Split 9| Min-Samples-Leaf 2\n",
      "Train F1: 0.9991974317817015\n",
      "Test F1: 0.88141592920354\n",
      "Running Result on Parameters: Max-Depth 3| Min-Samples-Split 9| Min-Samples-Leaf 5\n",
      "Train F1: 0.9991974317817015\n",
      "Test F1: 0.8896860986547085\n",
      "Running Result on Parameters: Max-Depth 3| Min-Samples-Split 9| Min-Samples-Leaf 9\n",
      "Train F1: 0.9991974317817015\n",
      "Test F1: 0.8824049513704686\n",
      "Running Result on Parameters: Max-Depth 6| Min-Samples-Split 1| Min-Samples-Leaf 1\n",
      "Train F1: 0.9991974317817015\n",
      "Test F1: 0.8938447814451382\n",
      "Running Result on Parameters: Max-Depth 6| Min-Samples-Split 1| Min-Samples-Leaf 2\n",
      "Train F1: 0.9991974317817015\n",
      "Test F1: 0.8817777777777779\n",
      "Running Result on Parameters: Max-Depth 6| Min-Samples-Split 1| Min-Samples-Leaf 5\n",
      "Train F1: 0.9991974317817015\n",
      "Test F1: 0.8835555555555556\n",
      "Running Result on Parameters: Max-Depth 6| Min-Samples-Split 1| Min-Samples-Leaf 9\n",
      "Train F1: 0.9991974317817015\n",
      "Test F1: 0.8818342151675486\n",
      "Running Result on Parameters: Max-Depth 6| Min-Samples-Split 2| Min-Samples-Leaf 1\n",
      "Train F1: 0.9991974317817015\n",
      "Test F1: 0.8851291184327693\n",
      "Running Result on Parameters: Max-Depth 6| Min-Samples-Split 2| Min-Samples-Leaf 2\n",
      "Train F1: 0.9991974317817015\n",
      "Test F1: 0.8816254416961131\n",
      "Running Result on Parameters: Max-Depth 6| Min-Samples-Split 2| Min-Samples-Leaf 5\n",
      "Train F1: 0.9991974317817015\n",
      "Test F1: 0.8888888888888888\n",
      "Running Result on Parameters: Max-Depth 6| Min-Samples-Split 2| Min-Samples-Leaf 9\n",
      "Train F1: 0.9991974317817015\n",
      "Test F1: 0.8869100623330365\n",
      "Running Result on Parameters: Max-Depth 6| Min-Samples-Split 5| Min-Samples-Leaf 1\n",
      "Train F1: 0.9991974317817015\n",
      "Test F1: 0.8773168578993823\n",
      "Running Result on Parameters: Max-Depth 6| Min-Samples-Split 5| Min-Samples-Leaf 2\n",
      "Train F1: 0.9991974317817015\n",
      "Test F1: 0.8853333333333333\n",
      "Running Result on Parameters: Max-Depth 6| Min-Samples-Split 5| Min-Samples-Leaf 5\n",
      "Train F1: 0.9991974317817015\n",
      "Test F1: 0.8819875776397517\n",
      "Running Result on Parameters: Max-Depth 6| Min-Samples-Split 5| Min-Samples-Leaf 9\n",
      "Train F1: 0.9991974317817015\n",
      "Test F1: 0.8880931065353626\n",
      "Running Result on Parameters: Max-Depth 6| Min-Samples-Split 9| Min-Samples-Leaf 1\n",
      "Train F1: 0.9991974317817015\n",
      "Test F1: 0.8787878787878788\n",
      "Running Result on Parameters: Max-Depth 6| Min-Samples-Split 9| Min-Samples-Leaf 2\n",
      "Train F1: 0.9991974317817015\n",
      "Test F1: 0.8928571428571428\n",
      "Running Result on Parameters: Max-Depth 6| Min-Samples-Split 9| Min-Samples-Leaf 5\n",
      "Train F1: 0.9991974317817015\n",
      "Test F1: 0.8896797153024911\n",
      "Running Result on Parameters: Max-Depth 6| Min-Samples-Split 9| Min-Samples-Leaf 9\n",
      "Train F1: 0.9991974317817015\n",
      "Test F1: 0.8825622775800711\n",
      "Running Result on Parameters: Max-Depth 9| Min-Samples-Split 1| Min-Samples-Leaf 1\n",
      "Train F1: 0.9991974317817015\n",
      "Test F1: 0.8847517730496455\n",
      "Running Result on Parameters: Max-Depth 9| Min-Samples-Split 1| Min-Samples-Leaf 2\n",
      "Train F1: 0.9991974317817015\n",
      "Test F1: 0.888495575221239\n",
      "Running Result on Parameters: Max-Depth 9| Min-Samples-Split 1| Min-Samples-Leaf 5\n",
      "Train F1: 0.9991974317817015\n",
      "Test F1: 0.8808473080317741\n",
      "Running Result on Parameters: Max-Depth 9| Min-Samples-Split 1| Min-Samples-Leaf 9\n",
      "Train F1: 0.9991974317817015\n",
      "Test F1: 0.8847517730496455\n",
      "Running Result on Parameters: Max-Depth 9| Min-Samples-Split 2| Min-Samples-Leaf 1\n",
      "Train F1: 0.9991974317817015\n",
      "Test F1: 0.875886524822695\n",
      "Running Result on Parameters: Max-Depth 9| Min-Samples-Split 2| Min-Samples-Leaf 2\n",
      "Train F1: 0.9991974317817015\n",
      "Test F1: 0.8851291184327693\n",
      "Running Result on Parameters: Max-Depth 9| Min-Samples-Split 2| Min-Samples-Leaf 5\n",
      "Train F1: 0.9991974317817015\n",
      "Test F1: 0.8818342151675486\n",
      "Running Result on Parameters: Max-Depth 9| Min-Samples-Split 2| Min-Samples-Leaf 9\n",
      "Train F1: 0.9991974317817015\n",
      "Test F1: 0.8804251550044286\n",
      "Running Result on Parameters: Max-Depth 9| Min-Samples-Split 5| Min-Samples-Leaf 1\n",
      "Train F1: 0.9991974317817015\n",
      "Test F1: 0.887511071744907\n",
      "Running Result on Parameters: Max-Depth 9| Min-Samples-Split 5| Min-Samples-Leaf 2\n",
      "Train F1: 0.9991974317817015\n",
      "Test F1: 0.8824049513704686\n",
      "Running Result on Parameters: Max-Depth 9| Min-Samples-Split 5| Min-Samples-Leaf 5\n",
      "Train F1: 0.9991974317817015\n",
      "Test F1: 0.8833481745325023\n",
      "Running Result on Parameters: Max-Depth 9| Min-Samples-Split 5| Min-Samples-Leaf 9\n",
      "Train F1: 0.9991974317817015\n",
      "Test F1: 0.8863025962399285\n",
      "Running Result on Parameters: Max-Depth 9| Min-Samples-Split 9| Min-Samples-Leaf 1\n",
      "Train F1: 0.9991974317817015\n",
      "Test F1: 0.8841732979664014\n",
      "Running Result on Parameters: Max-Depth 9| Min-Samples-Split 9| Min-Samples-Leaf 2\n",
      "Train F1: 0.9991974317817015\n",
      "Test F1: 0.8835978835978837\n",
      "Running Result on Parameters: Max-Depth 9| Min-Samples-Split 9| Min-Samples-Leaf 5\n",
      "Train F1: 0.9991974317817015\n",
      "Test F1: 0.8818342151675486\n",
      "Running Result on Parameters: Max-Depth 9| Min-Samples-Split 9| Min-Samples-Leaf 9\n",
      "Train F1: 0.9991974317817015\n",
      "Test F1: 0.8867082961641392\n",
      "Running Result on Parameters: Max-Depth 12| Min-Samples-Split 1| Min-Samples-Leaf 1\n",
      "Train F1: 0.9991974317817015\n",
      "Test F1: 0.8772241992882561\n",
      "Running Result on Parameters: Max-Depth 12| Min-Samples-Split 1| Min-Samples-Leaf 2\n",
      "Train F1: 0.9991974317817015\n",
      "Test F1: 0.8796460176991151\n",
      "Running Result on Parameters: Max-Depth 12| Min-Samples-Split 1| Min-Samples-Leaf 5\n",
      "Train F1: 0.9991974317817015\n",
      "Test F1: 0.8853333333333333\n",
      "Running Result on Parameters: Max-Depth 12| Min-Samples-Split 1| Min-Samples-Leaf 9\n",
      "Train F1: 0.9991974317817015\n",
      "Test F1: 0.8797190517998243\n",
      "Running Result on Parameters: Max-Depth 12| Min-Samples-Split 2| Min-Samples-Leaf 1\n",
      "Train F1: 0.9991974317817015\n",
      "Test F1: 0.8837622005323869\n",
      "Running Result on Parameters: Max-Depth 12| Min-Samples-Split 2| Min-Samples-Leaf 2\n",
      "Train F1: 0.9991974317817015\n",
      "Test F1: 0.8820422535211268\n",
      "Running Result on Parameters: Max-Depth 12| Min-Samples-Split 2| Min-Samples-Leaf 5\n",
      "Train F1: 0.9991974317817015\n",
      "Test F1: 0.8806366047745359\n",
      "Running Result on Parameters: Max-Depth 12| Min-Samples-Split 2| Min-Samples-Leaf 9\n",
      "Train F1: 0.9991974317817015\n",
      "Test F1: 0.8855368234250222\n",
      "Running Result on Parameters: Max-Depth 12| Min-Samples-Split 5| Min-Samples-Leaf 1\n",
      "Train F1: 0.9991974317817015\n",
      "Test F1: 0.8849241748438894\n",
      "Running Result on Parameters: Max-Depth 12| Min-Samples-Split 5| Min-Samples-Leaf 2\n",
      "Train F1: 0.9991974317817015\n",
      "Test F1: 0.8859180035650623\n",
      "Running Result on Parameters: Max-Depth 12| Min-Samples-Split 5| Min-Samples-Leaf 5\n",
      "Train F1: 0.9991974317817015\n",
      "Test F1: 0.8833922261484098\n",
      "Running Result on Parameters: Max-Depth 12| Min-Samples-Split 5| Min-Samples-Leaf 9\n"
     ]
    },
    {
     "name": "stdout",
     "output_type": "stream",
     "text": [
      "Train F1: 0.9991974317817015\n",
      "Test F1: 0.8795074758135445\n",
      "Running Result on Parameters: Max-Depth 12| Min-Samples-Split 9| Min-Samples-Leaf 1\n",
      "Train F1: 0.9991974317817015\n",
      "Test F1: 0.88\n",
      "Running Result on Parameters: Max-Depth 12| Min-Samples-Split 9| Min-Samples-Leaf 2\n",
      "Train F1: 0.9991974317817015\n",
      "Test F1: 0.8845470692717585\n",
      "Running Result on Parameters: Max-Depth 12| Min-Samples-Split 9| Min-Samples-Leaf 5\n",
      "Train F1: 0.9991974317817015\n",
      "Test F1: 0.8855368234250222\n",
      "Running Result on Parameters: Max-Depth 12| Min-Samples-Split 9| Min-Samples-Leaf 9\n",
      "Train F1: 0.9991974317817015\n",
      "Test F1: 0.875886524822695\n"
     ]
    }
   ],
   "source": [
    "max_depths = [3, 6, 9, 12]\n",
    "min_samples_split = [1, 2, 5, 9]\n",
    "min_samples_leaf = [1, 2, 5, 9]\n",
    "\n",
    "for depth in max_depths:\n",
    "    for min_ss in min_samples_split:\n",
    "        for min_sl in min_samples_leaf:\n",
    "            print(f\"Running Result on Parameters: Max-Depth {depth}| Min-Samples-Split {min_ss}| Min-Samples-Leaf {min_sl}\")\n",
    "            clf = DecisionTreeClassifier()\n",
    "            clf.fit(train_X, train_y)\n",
    "            \n",
    "            train_preds = clf.predict(train_X)\n",
    "            test_preds = clf.predict(test_X)\n",
    "\n",
    "            train_f1 = f1_score(train_y, train_preds)\n",
    "            test_f1 = f1_score(test_y, test_preds)\n",
    "\n",
    "            print(f\"Train F1: {train_f1}\\nTest F1: {test_f1}\")"
   ]
  },
  {
   "cell_type": "markdown",
   "metadata": {},
   "source": [
    "# Ok, now let's do it systematically\n",
    "\n",
    "Let's do it with some for loops. This will lead us to having more data than we can \"look\" at, so naturally we will plot it.\n",
    "I've started the for loop for you, you need to fill in the inner part."
   ]
  },
  {
   "cell_type": "code",
   "execution_count": 12,
   "metadata": {},
   "outputs": [
    {
     "name": "stdout",
     "output_type": "stream",
     "text": [
      "[0.8088567555354722, 0.8565453785027186, 0.8771626297577854, 0.9015846538782318, 0.9197200494030465, 0.9326683291770573, 0.9462453836684447, 0.953125, 0.9597701149425287, 0.9655455291222313, 0.9689034369885433, 0.970069700697007, 0.971311475409836, 0.9729729729729729, 0.9754500818330606, 0.9779591836734695, 0.9804081632653061, 0.9816401468788248, 0.982899022801303, 0.9846774193548388, 0.9883111648528818, 0.9898826386078511, 0.9923232323232324, 0.9923479661699558, 0.9931534434152236, 0.9951651893634166, 0.9951651893634166, 0.9959742351046699, 0.9963782696177061, 0.997588424437299, 0.9983935742971887, 0.9987956643918106, 0.9987956643918106, 0.9991974317817015, 0.9991974317817015, 0.9991974317817015, 0.9991974317817015, 0.9991974317817015, 0.9991974317817015, 0.9991974317817015, 0.9991974317817015, 0.9991974317817015, 0.9991974317817015, 0.9991974317817015, 0.9991974317817015, 0.9991974317817015, 0.9991974317817015, 0.9991974317817015]\n",
      " \n",
      "[0.7971745711402624, 0.8504672897196263, 0.8604651162790699, 0.8751173708920188, 0.8778696051423324, 0.8876508820798514, 0.8870370370370371, 0.8829493087557604, 0.887052341597796, 0.8927589367552703, 0.8852157943067034, 0.8836363636363637, 0.890310786106033, 0.8868613138686132, 0.8864668483197093, 0.8862602365787079, 0.8810172570390553, 0.8846503178928247, 0.8832116788321168, 0.8847517730496455, 0.8860986547085201, 0.8854824165915239, 0.8916741271262311, 0.8837622005323869, 0.8867082961641392, 0.8845120859444942, 0.8849241748438894, 0.8801431127012521, 0.8819875776397517, 0.883968113374668, 0.8773168578993823, 0.8804251550044286, 0.8946428571428571, 0.8762243989314337, 0.8906810035842293, 0.875886524822695, 0.8900709219858156, 0.8821966341895482, 0.8839285714285714, 0.8867256637168142, 0.8835555555555556, 0.8819875776397517, 0.8794326241134752, 0.8880994671403196, 0.8847517730496455, 0.8942222222222223, 0.8865248226950354, 0.8778761061946904]\n"
     ]
    }
   ],
   "source": [
    "train_results = []\n",
    "test_results = []\n",
    "for i in range(2,50): # feel free to change these, I just threw out a reasonable option here.\n",
    "    \n",
    "    dtc = DecisionTreeClassifier(max_depth=i)  #select a parameter to check\n",
    "                                      # train the model\n",
    "                                      # get predictions for both training and test\n",
    "                                     # evaluate them and append them into the our lists.\n",
    "    dtc.fit(train_X, train_y)\n",
    "\n",
    "    train_preds = dtc.predict(train_X)\n",
    "    test_preds = dtc.predict(test_X)\n",
    "\n",
    "    train_f1 = f1_score(train_y, train_preds)\n",
    "    test_f1 = f1_score(test_y, test_preds)\n",
    "    \n",
    "    train_results.append(train_f1)\n",
    "    test_results.append(test_f1)\n",
    "\n",
    "print(train_results)\n",
    "print ( \" \")\n",
    "print (test_results)"
   ]
  },
  {
   "cell_type": "markdown",
   "metadata": {},
   "source": [
    "## That's a lot of numbers!\n",
    "\n",
    "What do all those numbers tell us? Well we can pick out the best values using something like `np.max` and then we can relate it to the best parameter with the argument that correlates to that value (so depth 2 gave us .85 score etc).  But I think we'll find more interesting to plot these points.  I've provided the code for you below."
   ]
  },
  {
   "cell_type": "code",
   "execution_count": 13,
   "metadata": {},
   "outputs": [
    {
     "data": {
      "text/plain": [
       "<matplotlib.legend.Legend at 0x7f3ae51c29a0>"
      ]
     },
     "execution_count": 13,
     "metadata": {},
     "output_type": "execute_result"
    },
    {
     "data": {
      "image/png": "[encoded data removed]",
      "text/plain": [
       "<Figure size 720x432 with 1 Axes>"
      ]
     },
     "metadata": {
      "needs_background": "light"
     },
     "output_type": "display_data"
    }
   ],
   "source": [
    "fig,ax = plt.subplots(figsize = (10,6));\n",
    "ax.plot(train_results, color = 'r', label = 'train')\n",
    "ax.plot(test_results, color = 'b', label = 'test')\n",
    "ax.legend()"
   ]
  },
  {
   "cell_type": "markdown",
   "metadata": {},
   "source": [
    "## This graph is called a validation curve\n",
    "\n",
    "What we have done is plotted the performance of the training and testing data against a parameter that was varied. How do we read this graph?\n",
    "What information can you glean?\n",
    "When does our model start to overfit?  \n",
    "Based on what you see here, what do you think the best choice for the parameter you were checking is?  That is, looking at the graph, what value would you choose for a spam detection model that you were going to deploy? Don't forget the purpose of the model!\n"
   ]
  },
  {
   "cell_type": "markdown",
   "metadata": {},
   "source": [
    "#### Your answers here"
   ]
  },
  {
   "cell_type": "markdown",
   "metadata": {},
   "source": [
    "Choosing purely based on the validation curve, a max depth of 5 seems roughly optimal. It is around this point that the trend of the curve begins to flatten, and variations beyond this could be largely due to noise. This is evidenced by the increasing gap between the training and test scores as the max depth increases."
   ]
  },
  {
   "cell_type": "markdown",
   "metadata": {},
   "source": [
    "# Finally... we ... made a mistake!\n",
    "Do you see what the giant mistake we did? Go ahead and let us know below.\n",
    "If you don't see the mistake... don't worry I'll explain in the next unit!\n"
   ]
  },
  {
   "cell_type": "markdown",
   "metadata": {},
   "source": [
    "#### Your answer here"
   ]
  },
  {
   "cell_type": "markdown",
   "metadata": {},
   "source": [
    "Re-using the test data to select our hyperparameters will cause information leak. It is important to use a separate validation set or a validation scheme for this task."
   ]
  }
 ],
 "metadata": {
  "kernelspec": {
   "display_name": "Python 3",
   "language": "python",
   "name": "python3"
  },
  "language_info": {
   "codemirror_mode": {
    "name": "ipython",
    "version": 3
   },
   "file_extension": ".py",
   "mimetype": "text/x-python",
   "name": "python",
   "nbconvert_exporter": "python",
   "pygments_lexer": "ipython3",
   "version": "3.8.5"
  }
 },
 "nbformat": 4,
 "nbformat_minor": 4
}
